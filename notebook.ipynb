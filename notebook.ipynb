{
 "cells": [
  {
   "cell_type": "code",
   "execution_count": 187,
   "id": "acf4f1d3",
   "metadata": {},
   "outputs": [],
   "source": [
    "# 1 Set up the environment Install Python (Anaconda Navigator, then PyCharm ), NumPy, Pandas, Seaborn, Matplotlib\n",
    "''' I installed them one by one as I needed them to avoid errors.\n",
    "    When I wanted to use another one I installed it and then press Run again.\n",
    "'''\n",
    "\n",
    "import pandas as pd\n",
    "import numpy as np\n",
    "import seaborn as sns\n",
    "from matplotlib import pyplot as plt\n",
    "from matplotlib import pyplot as plt\n",
    "from sklearn.model_selection import train_test_split\n",
    "from sklearn.metrics import mean_squared_error\n",
    "from sklearn.linear_model import LinearRegression\n",
    "from joblib import dump\n",
    "\n",
    "\n",
    "# 2 Getting and loading the data\n",
    "'''I'll use the Laptop Price dataset */\n",
    "   From https://www.kaggle.com/datasets/muhammetvarl/laptop-price\n",
    "   which I saved in my computer\n",
    "'''\n",
    "\n",
    "df = pd.read_csv('C:/Users/Julia/Desktop/LaptopPriceProject/laptop_price.csv')"
   ]
  },
  {
   "cell_type": "code",
   "execution_count": 188,
   "id": "8b71c45d",
   "metadata": {},
   "outputs": [
    {
     "name": "stdout",
     "output_type": "stream",
     "text": [
      "   laptop_ID Company      Product   TypeName  Inches  \\\n",
      "0          1   Apple  MacBook Pro  Ultrabook    13.3   \n",
      "1          2   Apple  Macbook Air  Ultrabook    13.3   \n",
      "2          3      HP       250 G6   Notebook    15.6   \n",
      "3          4   Apple  MacBook Pro  Ultrabook    15.4   \n",
      "4          5   Apple  MacBook Pro  Ultrabook    13.3   \n",
      "\n",
      "                     ScreenResolution                         Cpu   Ram  \\\n",
      "0  IPS Panel Retina Display 2560x1600        Intel Core i5 2.3GHz   8GB   \n",
      "1                            1440x900        Intel Core i5 1.8GHz   8GB   \n",
      "2                   Full HD 1920x1080  Intel Core i5 7200U 2.5GHz   8GB   \n",
      "3  IPS Panel Retina Display 2880x1800        Intel Core i7 2.7GHz  16GB   \n",
      "4  IPS Panel Retina Display 2560x1600        Intel Core i5 3.1GHz   8GB   \n",
      "\n",
      "                Memory                           Gpu  OpSys  Weight  \\\n",
      "0            128GB SSD  Intel Iris Plus Graphics 640  macOS  1.37kg   \n",
      "1  128GB Flash Storage        Intel HD Graphics 6000  macOS  1.34kg   \n",
      "2            256GB SSD         Intel HD Graphics 620  No OS  1.86kg   \n",
      "3            512GB SSD            AMD Radeon Pro 455  macOS  1.83kg   \n",
      "4            256GB SSD  Intel Iris Plus Graphics 650  macOS  1.37kg   \n",
      "\n",
      "   Price_euros  \n",
      "0      1339.69  \n",
      "1       898.94  \n",
      "2       575.00  \n",
      "3      2537.45  \n",
      "4      1803.60  \n"
     ]
    },
    {
     "data": {
      "text/plain": [
       "\" In PyCharm, because the above command is displaying only a few rows,\\n    Set the display option to show all columns\\n    pd.set_option('display.max_columns', None)\\n    and then take another look at the first few rows of the dataset\\n    df = pd.read_csv('C:/Users/Julia/Desktop/LaptopPriceProject/laptop_price.csv')\\n    print(df.head(2))\\n\""
      ]
     },
     "execution_count": 188,
     "metadata": {},
     "output_type": "execute_result"
    }
   ],
   "source": [
    "# 3 EDA\n",
    "\n",
    "# EDA Summary\n",
    "# 3.1 The first few rows of the dataset\n",
    "# 3.2 Checking the size of the dataset\n",
    "# 3.3 Getting a dataframe summary\n",
    "# 3.4 Check the columns' names and rename for consistency correcting with lowercase, and without spaces\n",
    "# 3.5 Checking each column's data types\n",
    "# 3.6 Cleaning 'ram' column\n",
    "# 3.7 Checking for min and max values\n",
    "# 3.8 Checking for missing values\n",
    "\n",
    "# 3.1 Take a look at the first few rows of the dataset\n",
    "print(df.head())\n",
    "\n",
    "# 3.1 Take a closer look at the first few rows of the dataset\n",
    "''' In PyCharm, because the above command is displaying only a few rows,\n",
    "    Set the display option to show all columns\n",
    "    pd.set_option('display.max_columns', None)\n",
    "    and then take another look at the first few rows of the dataset\n",
    "    df = pd.read_csv('C:/Users/Julia/Desktop/LaptopPriceProject/laptop_price.csv')\n",
    "    print(df.head(2))\n",
    "'''"
   ]
  },
  {
   "cell_type": "code",
   "execution_count": 189,
   "id": "ce673b92",
   "metadata": {},
   "outputs": [
    {
     "name": "stdout",
     "output_type": "stream",
     "text": [
      "(1303, 13)\n"
     ]
    }
   ],
   "source": [
    "# 3.2 Checking the size of the dataset\n",
    "'''A method which provides essential information about a DataFrame including:\n",
    "    The number of entries/rows.\n",
    "    The number of columns.\n",
    "    The column names.\n",
    "    The number of non-null values in each column.\n",
    "    The data type of each column.\n",
    "    The memory usage of the data.\n",
    "    This method is particularly useful for a quick examination of the data's structure and to assess which columns have missing data that may require cleaning.\n",
    "'''\n",
    "# 3.2 Checking the shape of the dataset (the numbers of rows and columns)\n",
    "print(df.shape)"
   ]
  },
  {
   "cell_type": "code",
   "execution_count": 190,
   "id": "201612c4",
   "metadata": {},
   "outputs": [
    {
     "name": "stdout",
     "output_type": "stream",
     "text": [
      "<class 'pandas.core.frame.DataFrame'>\n",
      "RangeIndex: 1303 entries, 0 to 1302\n",
      "Data columns (total 13 columns):\n",
      " #   Column            Non-Null Count  Dtype  \n",
      "---  ------            --------------  -----  \n",
      " 0   laptop_ID         1303 non-null   int64  \n",
      " 1   Company           1303 non-null   object \n",
      " 2   Product           1303 non-null   object \n",
      " 3   TypeName          1303 non-null   object \n",
      " 4   Inches            1303 non-null   float64\n",
      " 5   ScreenResolution  1303 non-null   object \n",
      " 6   Cpu               1303 non-null   object \n",
      " 7   Ram               1303 non-null   object \n",
      " 8   Memory            1303 non-null   object \n",
      " 9   Gpu               1303 non-null   object \n",
      " 10  OpSys             1303 non-null   object \n",
      " 11  Weight            1303 non-null   object \n",
      " 12  Price_euros       1303 non-null   float64\n",
      "dtypes: float64(2), int64(1), object(10)\n",
      "memory usage: 132.5+ KB\n",
      "None\n"
     ]
    }
   ],
   "source": [
    "# 3.3 Getting a dataframe summary\n",
    "print(df.info())"
   ]
  },
  {
   "cell_type": "code",
   "execution_count": 191,
   "id": "7fd826c0",
   "metadata": {},
   "outputs": [
    {
     "name": "stdout",
     "output_type": "stream",
     "text": [
      "Index(['laptop_ID', 'Company', 'Product', 'TypeName', 'Inches',\n",
      "       'ScreenResolution', 'Cpu', 'Ram', 'Memory', 'Gpu', 'OpSys', 'Weight',\n",
      "       'Price_euros'],\n",
      "      dtype='object')\n"
     ]
    }
   ],
   "source": [
    "# 3.4 Now let's take a look only at the columns' names\n",
    "print(df.columns)"
   ]
  },
  {
   "cell_type": "code",
   "execution_count": 192,
   "id": "32cb08eb",
   "metadata": {},
   "outputs": [
    {
     "name": "stdout",
     "output_type": "stream",
     "text": [
      "Index(['laptop_ID', 'Company', 'Product', 'type_name', 'Inches',\n",
      "       'screen_resolution', 'Cpu', 'Ram', 'Memory', 'Gpu', 'operation_system',\n",
      "       'Weight', 'price_euros'],\n",
      "      dtype='object')\n"
     ]
    }
   ],
   "source": [
    "# 3.4 Rename the columns\n",
    "df.rename(columns={'OpSys': 'operation_system'}, inplace=True)\n",
    "df.rename(columns={'TypeName': 'type_name'}, inplace=True)\n",
    "df.rename(columns={'ScreenResolution': 'screen_resolution'}, inplace=True)\n",
    "df.rename(columns={'Price_euros': 'price_euros'}, inplace=True)\n",
    "\n",
    "# and let's see the changes\n",
    "print(df.columns)"
   ]
  },
  {
   "cell_type": "code",
   "execution_count": 193,
   "id": "66eeb1c2",
   "metadata": {
    "scrolled": false
   },
   "outputs": [
    {
     "data": {
      "text/html": [
       "<div>\n",
       "<style scoped>\n",
       "    .dataframe tbody tr th:only-of-type {\n",
       "        vertical-align: middle;\n",
       "    }\n",
       "\n",
       "    .dataframe tbody tr th {\n",
       "        vertical-align: top;\n",
       "    }\n",
       "\n",
       "    .dataframe thead th {\n",
       "        text-align: right;\n",
       "    }\n",
       "</style>\n",
       "<table border=\"1\" class=\"dataframe\">\n",
       "  <thead>\n",
       "    <tr style=\"text-align: right;\">\n",
       "      <th></th>\n",
       "      <th>laptop_id</th>\n",
       "      <th>company</th>\n",
       "      <th>product</th>\n",
       "      <th>type_name</th>\n",
       "      <th>inches</th>\n",
       "      <th>screen_resolution</th>\n",
       "      <th>cpu</th>\n",
       "      <th>ram</th>\n",
       "      <th>memory</th>\n",
       "      <th>gpu</th>\n",
       "      <th>operation_system</th>\n",
       "      <th>weight</th>\n",
       "      <th>price_euros</th>\n",
       "    </tr>\n",
       "  </thead>\n",
       "  <tbody>\n",
       "    <tr>\n",
       "      <th>0</th>\n",
       "      <td>1</td>\n",
       "      <td>apple</td>\n",
       "      <td>macbook_pro</td>\n",
       "      <td>ultrabook</td>\n",
       "      <td>13.3</td>\n",
       "      <td>ips_panel_retina_display_2560x1600</td>\n",
       "      <td>intel_core_i5_2.3ghz</td>\n",
       "      <td>8gb</td>\n",
       "      <td>128gb_ssd</td>\n",
       "      <td>intel_iris_plus_graphics_640</td>\n",
       "      <td>macos</td>\n",
       "      <td>1.37kg</td>\n",
       "      <td>1339.69</td>\n",
       "    </tr>\n",
       "    <tr>\n",
       "      <th>1</th>\n",
       "      <td>2</td>\n",
       "      <td>apple</td>\n",
       "      <td>macbook_air</td>\n",
       "      <td>ultrabook</td>\n",
       "      <td>13.3</td>\n",
       "      <td>1440x900</td>\n",
       "      <td>intel_core_i5_1.8ghz</td>\n",
       "      <td>8gb</td>\n",
       "      <td>128gb_flash_storage</td>\n",
       "      <td>intel_hd_graphics_6000</td>\n",
       "      <td>macos</td>\n",
       "      <td>1.34kg</td>\n",
       "      <td>898.94</td>\n",
       "    </tr>\n",
       "    <tr>\n",
       "      <th>2</th>\n",
       "      <td>3</td>\n",
       "      <td>hp</td>\n",
       "      <td>250_g6</td>\n",
       "      <td>notebook</td>\n",
       "      <td>15.6</td>\n",
       "      <td>full_hd_1920x1080</td>\n",
       "      <td>intel_core_i5_7200u_2.5ghz</td>\n",
       "      <td>8gb</td>\n",
       "      <td>256gb_ssd</td>\n",
       "      <td>intel_hd_graphics_620</td>\n",
       "      <td>no_os</td>\n",
       "      <td>1.86kg</td>\n",
       "      <td>575.00</td>\n",
       "    </tr>\n",
       "    <tr>\n",
       "      <th>3</th>\n",
       "      <td>4</td>\n",
       "      <td>apple</td>\n",
       "      <td>macbook_pro</td>\n",
       "      <td>ultrabook</td>\n",
       "      <td>15.4</td>\n",
       "      <td>ips_panel_retina_display_2880x1800</td>\n",
       "      <td>intel_core_i7_2.7ghz</td>\n",
       "      <td>16gb</td>\n",
       "      <td>512gb_ssd</td>\n",
       "      <td>amd_radeon_pro_455</td>\n",
       "      <td>macos</td>\n",
       "      <td>1.83kg</td>\n",
       "      <td>2537.45</td>\n",
       "    </tr>\n",
       "    <tr>\n",
       "      <th>4</th>\n",
       "      <td>5</td>\n",
       "      <td>apple</td>\n",
       "      <td>macbook_pro</td>\n",
       "      <td>ultrabook</td>\n",
       "      <td>13.3</td>\n",
       "      <td>ips_panel_retina_display_2560x1600</td>\n",
       "      <td>intel_core_i5_3.1ghz</td>\n",
       "      <td>8gb</td>\n",
       "      <td>256gb_ssd</td>\n",
       "      <td>intel_iris_plus_graphics_650</td>\n",
       "      <td>macos</td>\n",
       "      <td>1.37kg</td>\n",
       "      <td>1803.60</td>\n",
       "    </tr>\n",
       "  </tbody>\n",
       "</table>\n",
       "</div>"
      ],
      "text/plain": [
       "   laptop_id company      product  type_name  inches  \\\n",
       "0          1   apple  macbook_pro  ultrabook    13.3   \n",
       "1          2   apple  macbook_air  ultrabook    13.3   \n",
       "2          3      hp       250_g6   notebook    15.6   \n",
       "3          4   apple  macbook_pro  ultrabook    15.4   \n",
       "4          5   apple  macbook_pro  ultrabook    13.3   \n",
       "\n",
       "                    screen_resolution                         cpu   ram  \\\n",
       "0  ips_panel_retina_display_2560x1600        intel_core_i5_2.3ghz   8gb   \n",
       "1                            1440x900        intel_core_i5_1.8ghz   8gb   \n",
       "2                   full_hd_1920x1080  intel_core_i5_7200u_2.5ghz   8gb   \n",
       "3  ips_panel_retina_display_2880x1800        intel_core_i7_2.7ghz  16gb   \n",
       "4  ips_panel_retina_display_2560x1600        intel_core_i5_3.1ghz   8gb   \n",
       "\n",
       "                memory                           gpu operation_system  weight  \\\n",
       "0            128gb_ssd  intel_iris_plus_graphics_640            macos  1.37kg   \n",
       "1  128gb_flash_storage        intel_hd_graphics_6000            macos  1.34kg   \n",
       "2            256gb_ssd         intel_hd_graphics_620            no_os  1.86kg   \n",
       "3            512gb_ssd            amd_radeon_pro_455            macos  1.83kg   \n",
       "4            256gb_ssd  intel_iris_plus_graphics_650            macos  1.37kg   \n",
       "\n",
       "   price_euros  \n",
       "0      1339.69  \n",
       "1       898.94  \n",
       "2       575.00  \n",
       "3      2537.45  \n",
       "4      1803.60  "
      ]
     },
     "execution_count": 193,
     "metadata": {},
     "output_type": "execute_result"
    }
   ],
   "source": [
    "# 3.4 Replace uppercase letters with lowercase, and empty spaces with underlines\n",
    "df.columns = df.columns.str.lower().str.replace(' ', '_')\n",
    "\n",
    "string_columns = list(df.dtypes[df.dtypes == 'object'].index)\n",
    "\n",
    "for col in string_columns:\n",
    "    df[col] = df[col].str.lower().str.replace(' ', '_')\n",
    "\n",
    "# Let's see the changes with print(df.columns) or\n",
    "df.head()"
   ]
  },
  {
   "cell_type": "code",
   "execution_count": 194,
   "id": "a1ce8c0f",
   "metadata": {},
   "outputs": [
    {
     "name": "stdout",
     "output_type": "stream",
     "text": [
      "laptop_id              int64\n",
      "company               object\n",
      "product               object\n",
      "type_name             object\n",
      "inches               float64\n",
      "screen_resolution     object\n",
      "cpu                   object\n",
      "ram                   object\n",
      "memory                object\n",
      "gpu                   object\n",
      "operation_system      object\n",
      "weight                object\n",
      "price_euros          float64\n",
      "dtype: object\n"
     ]
    }
   ],
   "source": [
    "# 3.5 Checking the data types of each column to understand what kinds of data are present\n",
    "print(df.dtypes)"
   ]
  },
  {
   "cell_type": "code",
   "execution_count": 195,
   "id": "301414b8",
   "metadata": {
    "scrolled": true
   },
   "outputs": [
    {
     "name": "stdout",
     "output_type": "stream",
     "text": [
      "   laptop_id company      product  type_name  inches  \\\n",
      "0          1   apple  macbook_pro  ultrabook    13.3   \n",
      "1          2   apple  macbook_air  ultrabook    13.3   \n",
      "2          3      hp       250_g6   notebook    15.6   \n",
      "3          4   apple  macbook_pro  ultrabook    15.4   \n",
      "4          5   apple  macbook_pro  ultrabook    13.3   \n",
      "\n",
      "                    screen_resolution                         cpu   ram  \\\n",
      "0  ips_panel_retina_display_2560x1600        intel_core_i5_2.3ghz   8gb   \n",
      "1                            1440x900        intel_core_i5_1.8ghz   8gb   \n",
      "2                   full_hd_1920x1080  intel_core_i5_7200u_2.5ghz   8gb   \n",
      "3  ips_panel_retina_display_2880x1800        intel_core_i7_2.7ghz  16gb   \n",
      "4  ips_panel_retina_display_2560x1600        intel_core_i5_3.1ghz   8gb   \n",
      "\n",
      "                memory                           gpu operation_system  weight  \\\n",
      "0            128gb_ssd  intel_iris_plus_graphics_640            macos  1.37kg   \n",
      "1  128gb_flash_storage        intel_hd_graphics_6000            macos  1.34kg   \n",
      "2            256gb_ssd         intel_hd_graphics_620            no_os  1.86kg   \n",
      "3            512gb_ssd            amd_radeon_pro_455            macos  1.83kg   \n",
      "4            256gb_ssd  intel_iris_plus_graphics_650            macos  1.37kg   \n",
      "\n",
      "   price_euros  \n",
      "0      1339.69  \n",
      "1       898.94  \n",
      "2       575.00  \n",
      "3      2537.45  \n",
      "4      1803.60  \n"
     ]
    }
   ],
   "source": [
    "# 3.6 Replace 'GB' with an empty string in the 'ram' column\n",
    "df['ram'] = df['ram'].str.replace('GB', '')\n",
    "\n",
    "# And take another look at the first few rows of the dataset\n",
    "print(df.head())"
   ]
  },
  {
   "cell_type": "code",
   "execution_count": 196,
   "id": "4536e671",
   "metadata": {},
   "outputs": [
    {
     "name": "stdout",
     "output_type": "stream",
     "text": [
      "     laptop_id  inches  price_euros\n",
      "min        1.0    10.1        174.0\n",
      "max     1320.0    18.4       6099.0\n"
     ]
    }
   ],
   "source": [
    "# 3.7 Checking for min and max values\n",
    "'''Examining the minimum and maximum values of each feature in a dataset\n",
    "    is a fundamental aspect of exploratory data analysis.\n",
    "    It gives you a sense of the range of values \n",
    "    and can help identify possible outliers or errors in data collection.\n",
    "'''\n",
    "\n",
    "# Get min-max values for all numerical features\n",
    "min_max_values = df.describe().loc[['min', 'max']]\n",
    "print(min_max_values)"
   ]
  },
  {
   "cell_type": "code",
   "execution_count": 197,
   "id": "c6320054",
   "metadata": {},
   "outputs": [
    {
     "name": "stdout",
     "output_type": "stream",
     "text": [
      "laptop_id            0\n",
      "company              0\n",
      "product              0\n",
      "type_name            0\n",
      "inches               0\n",
      "screen_resolution    0\n",
      "cpu                  0\n",
      "ram                  0\n",
      "memory               0\n",
      "gpu                  0\n",
      "operation_system     0\n",
      "weight               0\n",
      "price_euros          0\n",
      "dtype: int64\n"
     ]
    }
   ],
   "source": [
    "# 3.7 Checking for missing values\n",
    "missing_values = df.isnull().sum()\n",
    "print(missing_values)"
   ]
  },
  {
   "cell_type": "code",
   "execution_count": 198,
   "id": "0e7089d5",
   "metadata": {},
   "outputs": [],
   "source": [
    "# Log transform the price column.\n",
    "df['log_price'] = np.log1p(df['price_euros'])\n",
    "\n",
    "# but first make sure that numpy is installed"
   ]
  },
  {
   "cell_type": "code",
   "execution_count": 199,
   "id": "63aeabda",
   "metadata": {
    "scrolled": true
   },
   "outputs": [
    {
     "data": {
      "text/plain": [
       "\"This line above uses Seaborn's histplot function to plot a histogram.\\n    df['price'] specifies the data from the 'price' column in the dataframe.\\n    bins=50 divides the data into 50 bins for the histogram, providing a detailed view of the distribution.\\n    color='black sets the color of the histogram bars to black.\\n    alpha=1 makes the bars fully opaque.\\n\""
      ]
     },
     "execution_count": 199,
     "metadata": {},
     "output_type": "execute_result"
    },
    {
     "data": {
      "image/png": "[encoded data removed]",
      "text/plain": [
       "<Figure size 640x480 with 1 Axes>"
      ]
     },
     "metadata": {},
     "output_type": "display_data"
    }
   ],
   "source": [
    "# Creating a histogram of the 'price' column from the DataFrame 'df'\n",
    "'''but first make sure that seaborb and matplotlib are installed'''\n",
    "\n",
    "sns.histplot(df['price_euros'], bins=50, color='black', alpha=1)\n",
    "\n",
    "'''This line above uses Seaborn's histplot function to plot a histogram.\n",
    "    df['price'] specifies the data from the 'price' column in the dataframe.\n",
    "    bins=50 divides the data into 50 bins for the histogram, providing a detailed view of the distribution.\n",
    "    color='black sets the color of the histogram bars to black.\n",
    "    alpha=1 makes the bars fully opaque.\n",
    "'''"
   ]
  },
  {
   "cell_type": "code",
   "execution_count": 200,
   "id": "6b5e13af",
   "metadata": {},
   "outputs": [
    {
     "data": {
      "image/png": "[encoded data removed]",
      "text/plain": [
       "<Figure size 640x480 with 1 Axes>"
      ]
     },
     "metadata": {},
     "output_type": "display_data"
    }
   ],
   "source": [
    "# aaaand it works!\n",
    "# Now let's beautify this histogram addind appropriate labels\n",
    "\n",
    "'''\n",
    "    Setting the label for the y-axis as 'Quantity'\n",
    "    plt.ylabel('Quantity')\n",
    "    The ylabel function is used to set the label of the y-axis.\n",
    "    'Quantity' refers to the number of occurrences or frequency of prices within each bin.\n",
    "\n",
    "    Setting the label for the x-axis as 'Price'\n",
    "    plt.xlabel('Price')\n",
    "    The xlabel function is used to set the label of the x-axis.\n",
    "    'Price' indicates that the histogram is showing the distribution of different price values.\n",
    "\n",
    "    Setting the title of the histogram plot\n",
    "    plt.title('Distribution of prices')\n",
    "    The title function is used to set the title of the plot.\n",
    "    'Distribution of prices' gives a descriptive title, indicating what the plot represents.\n",
    "\n",
    "    Displaying the plot\n",
    "    plt.show()\n",
    "    The show function renders the plot and displays it to the user.\n",
    "    It's a necessary command to actually visualize the plot when using Matplotlib.\n",
    "'''\n",
    "\n",
    "sns.histplot(df['price_euros'], bins=50, color='black', alpha=1)\n",
    "plt.ylabel('Quantity')\n",
    "plt.xlabel('Price')\n",
    "plt.title('Distribution of prices')\n",
    "plt.show()"
   ]
  },
  {
   "cell_type": "code",
   "execution_count": 201,
   "id": "c9fb57d5",
   "metadata": {},
   "outputs": [
    {
     "data": {
      "image/png": "[encoded data removed]",
      "text/plain": [
       "<Figure size 600x400 with 1 Axes>"
      ]
     },
     "metadata": {},
     "output_type": "display_data"
    }
   ],
   "source": [
    "# Validation Framework\n",
    "np.random.seed(2)\n",
    "n = len(df)\n",
    "n_val = int(0.2 * n)\n",
    "n_test = int(0.2 * n)\n",
    "n_train = n - (n_val + n_test)\n",
    "idx = np.arange(n)\n",
    "np.random.shuffle(idx)\n",
    "\n",
    "df_shuffled = df.iloc[idx]\n",
    "df_train = df_shuffled.iloc[:n_train].copy()\n",
    "df_val = df_shuffled.iloc[n_train:n_train+n_val].copy()\n",
    "df_test = df_shuffled.iloc[n_train+n_val:].copy()\n",
    "\n",
    "y_train_orig = df_train.price_euros.values\n",
    "y_val_orig = df_val.price_euros.values\n",
    "y_test_orig = df_test.price_euros.values\n",
    "\n",
    "y_train = np.log1p(y_train_orig)\n",
    "y_val = np.log1p(y_val_orig)\n",
    "y_test = np.log1p(y_test_orig)\n",
    "\n",
    "del df_train['price_euros']\n",
    "del df_val['price_euros']\n",
    "del df_test['price_euros']\n",
    "\n",
    "# Linear Regression Model Training\n",
    "def train_linear_regression(X, y):\n",
    "    model = LinearRegression()\n",
    "    model.fit(X, y)\n",
    "    return model\n",
    "\n",
    "# Feature Preparation\n",
    "base = ['company', 'type_name', 'inches']  # Make sure these are the correct feature names\n",
    "\n",
    "def prepare_X(df):\n",
    "    df_num = df.copy()\n",
    "    for col in base:\n",
    "        df_num[col] = pd.to_numeric(df_num[col], errors='coerce')\n",
    "    df_num = df_num.fillna(0)\n",
    "    X = df_num[base].values\n",
    "    return X\n",
    "\n",
    "# Prepare the data\n",
    "X_train = prepare_X(df_train)\n",
    "X_val = prepare_X(df_val)\n",
    "\n",
    "# Train the model\n",
    "model = train_linear_regression(X_train, y_train)\n",
    "\n",
    "# Save the trained model\n",
    "dump(model, 'model.joblib')\n",
    "\n",
    "# Make predictions\n",
    "y_pred = model.predict(X_val)\n",
    "\n",
    "# Plot the predictions vs actual distribution\n",
    "plt.figure(figsize=(6, 4))\n",
    "sns.histplot(y_val, label='target', color='#222222', alpha=0.6, bins=40)\n",
    "sns.histplot(y_pred, label='prediction', color='#aaaaaa', alpha=0.8, bins=40)\n",
    "plt.legend()\n",
    "plt.ylabel('Frequency')\n",
    "plt.xlabel('Log(Price + 1)')\n",
    "plt.title('Predictions vs actual distribution')\n",
    "plt.show()"
   ]
  },
  {
   "cell_type": "code",
   "execution_count": 202,
   "id": "495e60d2",
   "metadata": {},
   "outputs": [
    {
     "name": "stdout",
     "output_type": "stream",
     "text": [
      " * Serving Flask app '__main__'\n",
      " * Debug mode: on\n"
     ]
    },
    {
     "name": "stderr",
     "output_type": "stream",
     "text": [
      "WARNING: This is a development server. Do not use it in a production deployment. Use a production WSGI server instead.\n",
      " * Running on http://127.0.0.1:6969\n",
      "Press CTRL+C to quit\n",
      "127.0.0.1 - - [06/Nov/2023 22:30:05] \"GET / HTTP/1.1\" 200 -\n"
     ]
    }
   ],
   "source": [
    "from flask import Flask, request, jsonify\n",
    "from joblib import load\n",
    "from threading import Thread\n",
    "\n",
    "app = Flask(__name__)\n",
    "\n",
    "# Load the trained model\n",
    "model = load('model.joblib')\n",
    "\n",
    "@app.route('/')\n",
    "def home():\n",
    "    return \"This is the model prediction service!\"\n",
    "\n",
    "@app.route('/predict', methods=['POST'])\n",
    "def predict():\n",
    "    data = request.get_json(force=True)\n",
    "    # Preprocess the input data as required, similar to how you did in the notebook\n",
    "    # For example, if you expect a single feature called 'feature_input'\n",
    "    input_data = [data['feature_input']]\n",
    "    # Use the model to make a prediction\n",
    "    prediction = model.predict([input_data])\n",
    "    return jsonify({'prediction': prediction.tolist()})\n",
    "\n",
    "# Define the function that will run the Flask app\n",
    "def run_app():\n",
    "    # Set the threaded argument to True to handle each request in a separate thread.\n",
    "    app.run(port=6969, debug=True, use_reloader=False, threaded=True)\n",
    "\n",
    "# Run the Flask app in a separate thread to avoid blocking the notebook\n",
    "flask_thread = Thread(target=run_app)\n",
    "flask_thread.start()"
   ]
  },
  {
   "cell_type": "code",
   "execution_count": null,
   "id": "d3b97203",
   "metadata": {},
   "outputs": [],
   "source": []
  }
 ],
 "metadata": {
  "kernelspec": {
   "display_name": "Python 3 (ipykernel)",
   "language": "python",
   "name": "python3"
  },
  "language_info": {
   "codemirror_mode": {
    "name": "ipython",
    "version": 3
   },
   "file_extension": ".py",
   "mimetype": "text/x-python",
   "name": "python",
   "nbconvert_exporter": "python",
   "pygments_lexer": "ipython3",
   "version": "3.11.5"
  }
 },
 "nbformat": 4,
 "nbformat_minor": 5
}
